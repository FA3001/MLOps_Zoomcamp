{
 "cells": [
  {
   "cell_type": "code",
   "execution_count": null,
   "id": "947f2015",
   "metadata": {},
   "outputs": [],
   "source": [
    "!wget 'https://d37ci6vzurychx.cloudfront.net/trip-data/yellow_tripdata_2023-01.parquet'\n",
    "!wget 'https://d37ci6vzurychx.cloudfront.net/trip-data/yellow_tripdata_2023-02.parquet'"
   ]
  },
  {
   "cell_type": "code",
   "execution_count": null,
   "id": "11242d7d",
   "metadata": {},
   "outputs": [],
   "source": [
    "# Data Manipulation\n",
    "import pandas as pd\n",
    "import numpy as np\n",
    "\n",
    "# Data Visualization\n",
    "import seaborn as sns\n",
    "import matplotlib.pyplot as plt\n",
    "\n",
    "# Machine Learning \n",
    "from sklearn.feature_extraction import DictVectorizer\n",
    "from sklearn.linear_model import LinearRegression, Lasso, Ridge\n",
    "from sklearn.metrics import mean_squared_error\n",
    "\n",
    "# Others\n",
    "import os"
   ]
  },
  {
   "cell_type": "code",
   "execution_count": null,
   "id": "acb1c54f",
   "metadata": {},
   "outputs": [],
   "source": [
    "df = pd.read_parquet('./yellow_tripdata_2023-01.parquet')"
   ]
  },
  {
   "cell_type": "code",
   "execution_count": null,
   "id": "ec33939f",
   "metadata": {},
   "outputs": [],
   "source": [
    "df.head()"
   ]
  },
  {
   "cell_type": "code",
   "execution_count": null,
   "id": "8b46ba40",
   "metadata": {},
   "outputs": [],
   "source": [
    "df.info()"
   ]
  },
  {
   "cell_type": "markdown",
   "id": "28f5399d",
   "metadata": {},
   "source": [
    "## Quesion 1"
   ]
  },
  {
   "cell_type": "code",
   "execution_count": null,
   "id": "fe7fc0cf",
   "metadata": {},
   "outputs": [],
   "source": [
    "df.columns.shape[0]"
   ]
  },
  {
   "cell_type": "markdown",
   "id": "0c95394e",
   "metadata": {},
   "source": [
    "## Quesion 2"
   ]
  },
  {
   "cell_type": "code",
   "execution_count": null,
   "id": "a36abe26",
   "metadata": {},
   "outputs": [],
   "source": [
    "df['duration'] = df.tpep_dropoff_datetime - df.tpep_pickup_datetime   \n",
    "df.duration = df.duration.apply(lambda td: td.total_seconds() / 60)\n",
    "df.head()"
   ]
  },
  {
   "cell_type": "code",
   "execution_count": null,
   "id": "1292ed69",
   "metadata": {},
   "outputs": [],
   "source": [
    "df.duration.std()"
   ]
  },
  {
   "cell_type": "markdown",
   "id": "e7eb18e9",
   "metadata": {},
   "source": [
    "## Quesion 3"
   ]
  },
  {
   "cell_type": "code",
   "execution_count": null,
   "id": "ea4b52b1",
   "metadata": {},
   "outputs": [],
   "source": [
    "sns.boxplot(df.duration)"
   ]
  },
  {
   "cell_type": "code",
   "execution_count": null,
   "id": "a43d5ef2",
   "metadata": {},
   "outputs": [],
   "source": [
    "def remove_nulls(df):\n",
    "    no_records = df.shape[0]\n",
    "    df = df[(df.duration >= 1) & (df.duration <= 60)]\n",
    "    df_clean = df.shape[0]\n",
    "    clean_prec = df_clean * 100/no_records\n",
    "    return clean_prec"
   ]
  },
  {
   "cell_type": "code",
   "execution_count": null,
   "id": "0d9e91eb",
   "metadata": {},
   "outputs": [],
   "source": [
    "remove_nulls(df)"
   ]
  },
  {
   "cell_type": "markdown",
   "id": "4ddd1fc1",
   "metadata": {},
   "source": [
    "## Quesion 4"
   ]
  },
  {
   "cell_type": "code",
   "execution_count": null,
   "id": "9067908a",
   "metadata": {},
   "outputs": [],
   "source": [
    "categorical = ['PULocationID', 'DOLocationID']\n",
    "# numerical = ['trip_distance']\n",
    "df[categorical] = df[categorical].astype(str)"
   ]
  },
  {
   "cell_type": "code",
   "execution_count": null,
   "id": "753add46",
   "metadata": {},
   "outputs": [],
   "source": [
    "train_dicts = df[categorical].to_dict(orient='records')\n",
    "dv = DictVectorizer()\n",
    "X_train = dv.fit_transform(train_dicts)\n",
    "X_train.shape[1]"
   ]
  },
  {
   "cell_type": "markdown",
   "id": "e7a9f52a",
   "metadata": {},
   "source": [
    "## Quesion 5"
   ]
  },
  {
   "cell_type": "code",
   "execution_count": null,
   "id": "884d0a79",
   "metadata": {},
   "outputs": [],
   "source": [
    "target = 'duration'\n",
    "y_train = df[target].values\n",
    "\n",
    "lr = LinearRegression()\n",
    "lr.fit(X_train, y_train)\n",
    "\n",
    "y_pred = lr.predict(X_train)\n",
    "\n",
    "mean_squared_error(y_train, y_pred, squared=False)"
   ]
  },
  {
   "cell_type": "markdown",
   "id": "f43871f3",
   "metadata": {},
   "source": [
    "## Quesion 6"
   ]
  },
  {
   "cell_type": "code",
   "execution_count": null,
   "id": "94cd0759",
   "metadata": {},
   "outputs": [],
   "source": [
    "def read_dataframe(filename):\n",
    "    df = pd.read_parquet(filename)\n",
    "    df.tpep_pickup_datetime = pd.to_datetime(df.tpep_pickup_datetime)\n",
    "    df.tpep_dropoff_datetime = pd.to_datetime(df.tpep_dropoff_datetime)\n",
    "\n",
    "    df['duration'] = df.tpep_dropoff_datetime - df.tpep_pickup_datetime\n",
    "    df.duration = df.duration.apply(lambda td: td.total_seconds() / 60)\n",
    "\n",
    "    df = df[(df.duration >= 1) & (df.duration <= 60)]\n",
    "\n",
    "    categorical = ['PULocationID', 'DOLocationID']\n",
    "    df[categorical] = df[categorical].astype(str)\n",
    "    \n",
    "    return df"
   ]
  },
  {
   "cell_type": "code",
   "execution_count": null,
   "id": "95a95029",
   "metadata": {},
   "outputs": [],
   "source": [
    "df_val = read_dataframe('./yellow_tripdata_2023-02.parquet')\n",
    "df_train = read_dataframe('./yellow_tripdata_2023-01.parquet')\n",
    "                          \n",
    "print(len(df_train), len(df_val))\n",
    "                          "
   ]
  },
  {
   "cell_type": "code",
   "execution_count": null,
   "id": "aebccabc",
   "metadata": {},
   "outputs": [],
   "source": [
    "df_train['PU_DO'] = df_train['PULocationID'] + '_' + df_train['DOLocationID']\n",
    "df_val['PU_DO'] = df_val['PULocationID'] + '_' + df_val['DOLocationID']\n",
    "                          \n",
    "categorical = ['PU_DO'] #'PULocationID', 'DOLocationID']\n",
    "numerical = ['trip_distance']\n",
    "\n",
    "dv = DictVectorizer()\n",
    "\n",
    "train_dicts = df_train[categorical + numerical].to_dict(orient='records')\n",
    "X_train = dv.fit_transform(train_dicts)\n"
   ]
  },
  {
   "cell_type": "code",
   "execution_count": null,
   "id": "6688ae1a",
   "metadata": {},
   "outputs": [],
   "source": [
    "val_dicts = df_val[categorical + numerical].to_dict(orient='records')\n",
    "X_val = dv.transform(val_dicts)\n",
    "target = 'duration'\n",
    "y_train = df_train[target].values\n",
    "y_val = df_val[target].values\n"
   ]
  },
  {
   "cell_type": "code",
   "execution_count": null,
   "id": "cda75de9",
   "metadata": {},
   "outputs": [],
   "source": [
    "\n",
    "lr = LinearRegression()\n",
    "lr.fit(X_train, y_train)\n",
    "\n",
    "y_pred = lr.predict(X_val)\n",
    "\n",
    "mean_squared_error(y_val, y_pred, squared=False)"
   ]
  }
 ],
 "metadata": {
  "kernelspec": {
   "display_name": "Python 3 (ipykernel)",
   "language": "python",
   "name": "python3"
  },
  "language_info": {
   "codemirror_mode": {
    "name": "ipython",
    "version": 3
   },
   "file_extension": ".py",
   "mimetype": "text/x-python",
   "name": "python",
   "nbconvert_exporter": "python",
   "pygments_lexer": "ipython3",
   "version": "3.9.12"
  }
 },
 "nbformat": 4,
 "nbformat_minor": 5
}
